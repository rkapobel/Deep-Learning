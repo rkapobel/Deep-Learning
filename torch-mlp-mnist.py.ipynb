{
 "cells": [
  {
   "cell_type": "code",
   "execution_count": 30,
   "metadata": {},
   "outputs": [],
   "source": [
    "import torch\n",
    "import torchvision as tv"
   ]
  },
  {
   "cell_type": "code",
   "execution_count": 31,
   "metadata": {},
   "outputs": [],
   "source": [
    "trn_data = tv.datasets.MNIST( # Entrenamiento.\n",
    "    root='./data', train=True, download=True,\n",
    "    transform=tv.transforms.ToTensor())\n",
    "tst_data = tv.datasets.MNIST( # Validacion.\n",
    "    root='./data', train=False, download=True,\n",
    "    transform=tv.transforms.ToTensor())"
   ]
  },
  {
   "cell_type": "code",
   "execution_count": 44,
   "metadata": {},
   "outputs": [],
   "source": [
    "B = 100\n",
    "trn_load = torch.utils.data.DataLoader(\n",
    "    dataset=trn_data, batch_size=B, shuffle=True)\n",
    "tst_load = torch.utils.data.DataLoader(\n",
    "    dataset=tst_data, batch_size=B, shuffle=False)"
   ]
  },
  {
   "cell_type": "code",
   "execution_count": 38,
   "metadata": {},
   "outputs": [],
   "source": [
    "P = len(trn_data) # Cant de instancias.\n",
    "N = trn_data[0][0].nelement() # Cant de entradas.\n",
    "C = 10 # Cant de clases de salida."
   ]
  },
  {
   "cell_type": "code",
   "execution_count": 34,
   "metadata": {},
   "outputs": [],
   "source": [
    "model = torch.nn.Sequential( # Seq es feedforward.\n",
    "torch.nn.Linear(N, 128), # Linear son los pesos. \n",
    "torch.nn.Tanh(), # Tanh es la activacion.\n",
    "torch.nn.Linear(128, C), # Linear incluye los bias \n",
    "torch.nn.Tanh())"
   ]
  },
  {
   "cell_type": "code",
   "execution_count": 35,
   "metadata": {},
   "outputs": [],
   "source": [
    "costf = torch.nn.MSELoss()\n",
    "optim = torch.optim.Adam(model.parameters(), lr=1e-3)"
   ]
  },
  {
   "cell_type": "code",
   "execution_count": 36,
   "metadata": {},
   "outputs": [
    {
     "name": "stdout",
     "output_type": "stream",
     "text": [
      "Epoch: 1, Loss: 0.0350\n",
      "Epoch: 2, Loss: 0.0190\n",
      "Epoch: 3, Loss: 0.0151\n",
      "Epoch: 4, Loss: 0.0132\n",
      "Epoch: 5, Loss: 0.0119\n",
      "Epoch: 6, Loss: 0.0110\n",
      "Epoch: 7, Loss: 0.0103\n",
      "Epoch: 8, Loss: 0.0097\n",
      "Epoch: 9, Loss: 0.0093\n",
      "Epoch: 10, Loss: 0.0089\n",
      "Epoch: 11, Loss: 0.0086\n",
      "Epoch: 12, Loss: 0.0083\n",
      "Epoch: 13, Loss: 0.0080\n",
      "Epoch: 14, Loss: 0.0078\n",
      "Epoch: 15, Loss: 0.0076\n",
      "Epoch: 16, Loss: 0.0074\n",
      "Epoch: 17, Loss: 0.0072\n",
      "Epoch: 18, Loss: 0.0070\n",
      "Epoch: 19, Loss: 0.0068\n",
      "Epoch: 20, Loss: 0.0067\n",
      "Epoch: 21, Loss: 0.0065\n",
      "Epoch: 22, Loss: 0.0064\n",
      "Epoch: 23, Loss: 0.0063\n",
      "Epoch: 24, Loss: 0.0062\n",
      "Epoch: 25, Loss: 0.0060\n",
      "Epoch: 26, Loss: 0.0059\n",
      "Epoch: 27, Loss: 0.0058\n",
      "Epoch: 28, Loss: 0.0057\n",
      "Epoch: 29, Loss: 0.0056\n",
      "Epoch: 30, Loss: 0.0055\n",
      "Epoch: 31, Loss: 0.0054\n",
      "Epoch: 32, Loss: 0.0053\n",
      "Epoch: 33, Loss: 0.0053\n",
      "Epoch: 34, Loss: 0.0052\n",
      "Epoch: 35, Loss: 0.0051\n",
      "Epoch: 36, Loss: 0.0050\n",
      "Epoch: 37, Loss: 0.0049\n",
      "Epoch: 38, Loss: 0.0049\n",
      "Epoch: 39, Loss: 0.0048\n",
      "Epoch: 40, Loss: 0.0047\n",
      "Epoch: 41, Loss: 0.0047\n",
      "Epoch: 42, Loss: 0.0046\n",
      "Epoch: 43, Loss: 0.0045\n",
      "Epoch: 44, Loss: 0.0045\n",
      "Epoch: 45, Loss: 0.0044\n",
      "Epoch: 46, Loss: 0.0044\n",
      "Epoch: 47, Loss: 0.0043\n",
      "Epoch: 48, Loss: 0.0043\n",
      "Epoch: 49, Loss: 0.0042\n",
      "Epoch: 50, Loss: 0.0042\n",
      "Epoch: 51, Loss: 0.0041\n",
      "Epoch: 52, Loss: 0.0041\n",
      "Epoch: 53, Loss: 0.0040\n",
      "Epoch: 54, Loss: 0.0040\n",
      "Epoch: 55, Loss: 0.0040\n",
      "Epoch: 56, Loss: 0.0039\n",
      "Epoch: 57, Loss: 0.0038\n",
      "Epoch: 58, Loss: 0.0038\n",
      "Epoch: 59, Loss: 0.0038\n",
      "Epoch: 60, Loss: 0.0037\n",
      "Epoch: 61, Loss: 0.0037\n",
      "Epoch: 62, Loss: 0.0037\n",
      "Epoch: 63, Loss: 0.0036\n",
      "Epoch: 64, Loss: 0.0036\n",
      "Epoch: 65, Loss: 0.0036\n",
      "Epoch: 66, Loss: 0.0035\n",
      "Epoch: 67, Loss: 0.0035\n",
      "Epoch: 68, Loss: 0.0035\n",
      "Epoch: 69, Loss: 0.0034\n",
      "Epoch: 70, Loss: 0.0034\n",
      "Epoch: 71, Loss: 0.0034\n",
      "Epoch: 72, Loss: 0.0033\n",
      "Epoch: 73, Loss: 0.0033\n",
      "Epoch: 74, Loss: 0.0033\n",
      "Epoch: 75, Loss: 0.0033\n",
      "Epoch: 76, Loss: 0.0032\n",
      "Epoch: 77, Loss: 0.0032\n",
      "Epoch: 78, Loss: 0.0032\n",
      "Epoch: 79, Loss: 0.0031\n",
      "Epoch: 80, Loss: 0.0031\n",
      "Epoch: 81, Loss: 0.0031\n",
      "Epoch: 82, Loss: 0.0031\n",
      "Epoch: 83, Loss: 0.0030\n",
      "Epoch: 84, Loss: 0.0030\n",
      "Epoch: 85, Loss: 0.0030\n",
      "Epoch: 86, Loss: 0.0030\n",
      "Epoch: 87, Loss: 0.0030\n",
      "Epoch: 88, Loss: 0.0029\n",
      "Epoch: 89, Loss: 0.0029\n",
      "Epoch: 90, Loss: 0.0029\n",
      "Epoch: 91, Loss: 0.0029\n",
      "Epoch: 92, Loss: 0.0029\n",
      "Epoch: 93, Loss: 0.0029\n",
      "Epoch: 94, Loss: 0.0028\n",
      "Epoch: 95, Loss: 0.0028\n",
      "Epoch: 96, Loss: 0.0028\n",
      "Epoch: 97, Loss: 0.0028\n",
      "Epoch: 98, Loss: 0.0028\n",
      "Epoch: 99, Loss: 0.0028\n"
     ]
    }
   ],
   "source": [
    "t, E = 0, 1.\n",
    "model.train()\n",
    "while E >= 0.001 and t < 99: # Mas datos, menos epocas.\n",
    "    e = []\n",
    "    for images, labels in trn_load: # Itera en mini-batches.\n",
    "        optim.zero_grad()\n",
    "        x = images.reshape(-1, N) # -1 es auto.\n",
    "        z = torch.zeros(size=(len(labels),C)) # labels es un nro.\n",
    "        z[torch.arange(len(labels)),labels] = 1 # z sera un tensor.\n",
    "        y = model(x)\n",
    "        error = costf(y, z)\n",
    "        error.backward()\n",
    "        optim.step()\n",
    "        e.append(error.item())\n",
    "    E = sum(e) / len(e) # Promedio entre lotes.\n",
    "    t += 1\n",
    "    print(\"Epoch: {}, Loss: {:.4f}\".format(t, E))"
   ]
  },
  {
   "cell_type": "code",
   "execution_count": null,
   "metadata": {},
   "outputs": [],
   "source": []
  }
 ],
 "metadata": {
  "kernelspec": {
   "display_name": "Python 3",
   "language": "python",
   "name": "python3"
  },
  "language_info": {
   "codemirror_mode": {
    "name": "ipython",
    "version": 3
   },
   "file_extension": ".py",
   "mimetype": "text/x-python",
   "name": "python",
   "nbconvert_exporter": "python",
   "pygments_lexer": "ipython3",
   "version": "3.6.8"
  }
 },
 "nbformat": 4,
 "nbformat_minor": 2
}
