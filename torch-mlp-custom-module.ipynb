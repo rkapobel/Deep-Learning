{
 "cells": [
  {
   "cell_type": "code",
   "execution_count": 15,
   "metadata": {},
   "outputs": [],
   "source": [
    "import torch"
   ]
  },
  {
   "cell_type": "code",
   "execution_count": 16,
   "metadata": {},
   "outputs": [],
   "source": [
    "P = 100\n",
    "N = 8\n",
    "H = N + 1\n",
    "M = 1"
   ]
  },
  {
   "cell_type": "code",
   "execution_count": 17,
   "metadata": {},
   "outputs": [],
   "source": [
    "device = torch.device(\"cuda:0\" if torch.cuda.is_available() else \"cpu\")"
   ]
  },
  {
   "cell_type": "code",
   "execution_count": 18,
   "metadata": {},
   "outputs": [],
   "source": [
    "x = torch.randn(P, N).sign()\n",
    "z = torch.prod(x, dim=1).view(P, M)\n",
    "x, z = x.to(device), z.to(device) # Muevo los datos a gpu."
   ]
  },
  {
   "cell_type": "code",
   "execution_count": 19,
   "metadata": {},
   "outputs": [],
   "source": [
    "class mlp( torch.nn.Module): # Module para hacer modelos propios.\n",
    "    def __init__(_, isize, hsize, osize): # Uso _ en lugar de self.\n",
    "        super().__init__()  \n",
    "        _.l1 = torch.nn.Linear(isize, hsize) # Params de modelo.\n",
    "        _.l2 = torch.nn.Linear(hsize, osize)\n",
    "    def forward( _, x):\n",
    "        h = torch.tanh(_.l1( x)) # Grafo de computo.\n",
    "        y = torch.tanh(_.l2( h))\n",
    "        return y"
   ]
  },
  {
   "cell_type": "code",
   "execution_count": 20,
   "metadata": {},
   "outputs": [],
   "source": [
    "model = mlp(N, H, M).to(device) # Muevo los parametros a gpu.\n",
    "optim = torch.optim.SGD(model.parameters(), lr=0.1)\n",
    "costf = torch.nn.MSELoss()"
   ]
  },
  {
   "cell_type": "code",
   "execution_count": 21,
   "metadata": {},
   "outputs": [
    {
     "name": "stdout",
     "output_type": "stream",
     "text": [
      "100 0.8756523132324219\n",
      "200 0.7571622729301453\n",
      "300 0.6045585870742798\n",
      "400 0.45880967378616333\n",
      "500 0.3178875744342804\n",
      "600 0.2095615267753601\n",
      "700 0.1374921053647995\n",
      "800 0.09086084365844727\n",
      "900 0.06046449765563011\n",
      "1000 0.04154100641608238\n",
      "1100 0.030050022527575493\n",
      "1200 0.022758018225431442\n",
      "1300 0.017888229340314865\n",
      "1400 0.014503926038742065\n",
      "1500 0.012071696110069752\n",
      "1600 0.01026791799813509\n"
     ]
    }
   ],
   "source": [
    "t, E = 0, 1.\n",
    "model.train()\n",
    "while E >= 0.01 and t < 9999:\n",
    "    y = model(x)\n",
    "    optim.zero_grad() # Optim sabe que resetear.\n",
    "    error = costf(y, z)\n",
    "    error.backward()\n",
    "    optim.step() # Optim sabe que resetear.\n",
    "    E = error.item()\n",
    "    t += 1\n",
    "    if t % 100 == 0:\n",
    "        print(t, E)"
   ]
  },
  {
   "cell_type": "code",
   "execution_count": 22,
   "metadata": {},
   "outputs": [
    {
     "name": "stdout",
     "output_type": "stream",
     "text": [
      "0.009978143498301506\n"
     ]
    }
   ],
   "source": [
    "model.eval()\n",
    "with torch.no_grad():\n",
    "    y = model(x)\n",
    "    E = costf(y, z).item()\n",
    "    print(E)"
   ]
  },
  {
   "cell_type": "code",
   "execution_count": null,
   "metadata": {},
   "outputs": [],
   "source": []
  }
 ],
 "metadata": {
  "kernelspec": {
   "display_name": "Python 3",
   "language": "python",
   "name": "python3"
  },
  "language_info": {
   "codemirror_mode": {
    "name": "ipython",
    "version": 3
   },
   "file_extension": ".py",
   "mimetype": "text/x-python",
   "name": "python",
   "nbconvert_exporter": "python",
   "pygments_lexer": "ipython3",
   "version": "3.6.8"
  }
 },
 "nbformat": 4,
 "nbformat_minor": 2
}
